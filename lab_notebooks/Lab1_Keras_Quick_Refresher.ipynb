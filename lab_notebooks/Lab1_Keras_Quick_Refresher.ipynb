{
  "cells": [
    {
      "cell_type": "markdown",
      "metadata": {},
      "source": [
        "# 🧩 Lab 1: Basic Keras Refresher\n",
        "\n",
        "**Goal:** Reconnect with Keras basics — defining, compiling, and training a simple model.\n",
        "\n",
        "**Time:** ~15 minutes\n",
        "\n",
        "---\n",
        "\n",
        "### 🚀 Exercise\n",
        "You'll:\n",
        "1. Generate a small synthetic dataset.\n",
        "2. Build a simple Dense neural network using Keras.\n",
        "3. Compile it with an optimizer and loss function.\n",
        "4. Train the model and plot the loss curve.\n",
        "\n",
        "**Hint:** You can use `model.fit()` and `history.history['loss']` to visualize learning progress.\n"
      ]
    },
    {
      "cell_type": "code",
      "execution_count": null,
      "metadata": {},
      "outputs": [],
      "source": [
        "# Imports\n",
        "import tensorflow as tf\n",
        "from tensorflow import keras\n",
        "from tensorflow.keras import layers\n",
        "import numpy as np\n",
        "import matplotlib.pyplot as plt\n"
      ]
    },
    {
      "cell_type": "markdown",
      "metadata": {},
      "source": [
        "### Step 1: Generate a small dataset (x, y)\n",
        "\n",
        "**Goal:** Create synthetic data following the relationship `y = 3x + 7 + noise`\n",
        "\n",
        "**Your Task:**\n",
        "- Set a random seed for reproducibility: `np.random.seed(42)`\n",
        "- Create 100 x values between 0 and 10 using `np.linspace()`\n",
        "- Create y values: `y = 3 * x + 7 + noise` (use `np.random.randn()` for noise)\n",
        "- Reshape both to shape `(100, 1)` using `.reshape(-1, 1)`\n",
        "- Print the shapes to verify\n",
        "\n",
        "**Documentation:**\n",
        "- NumPy linspace: https://numpy.org/doc/stable/reference/generated/numpy.linspace.html\n",
        "- NumPy random: https://numpy.org/doc/stable/reference/random/index.html\n",
        "- NumPy reshape: https://numpy.org/doc/stable/reference/generated/numpy.reshape.html\n"
      ]
    },
    {
      "cell_type": "code",
      "execution_count": null,
      "metadata": {},
      "outputs": [],
      "source": [
        "# TODO: Generate the dataset here\n",
        "# Combine the steps from above to create x_train and y_train\n",
        "\n"
      ]
    },
    {
      "cell_type": "markdown",
      "metadata": {},
      "source": [
        "### Step 2: Define a small Keras model\n",
        "\n",
        "**Goal:** Build a neural network with two hidden layers\n",
        "\n",
        "**Architecture:**\n",
        "```python\n",
        "keras.Sequential([\n",
        "    layers.Dense(16, activation='relu', input_shape=(1,)),\n",
        "    layers.Dense(8, activation='relu'),\n",
        "    layers.Dense(1)\n",
        "])\n",
        "```\n",
        "\n",
        "**Your Task:**\n",
        "- Create a Sequential model with the architecture above\n",
        "- Call `model.summary()` to see the architecture\n",
        "- Understand: Why `input_shape=(1,)`? Why does the last layer have 1 neuron?\n",
        "\n",
        "**Documentation:**\n",
        "- Keras Sequential API: https://keras.io/guides/sequential_model/\n",
        "- Dense layers: https://keras.io/api/layers/core_layers/dense/\n"
      ]
    },
    {
      "cell_type": "code",
      "execution_count": null,
      "metadata": {},
      "outputs": [],
      "source": [
        "# TODO: Define your model here\n",
        "\n"
      ]
    },
    {
      "cell_type": "markdown",
      "metadata": {},
      "source": [
        "### Step 3: Compile the model\n",
        "\n",
        "**Goal:** Configure the model for training\n",
        "\n",
        "**Configuration:**\n",
        "```python\n",
        "model.compile(\n",
        "    optimizer='adam',\n",
        "    loss='mse',\n",
        "    metrics=['mae']\n",
        ")\n",
        "```\n",
        "\n",
        "**Your Task:**\n",
        "- Use the configuration above to compile your model\n",
        "- Understand: Why 'adam'? Why 'mse' for loss?\n",
        "\n",
        "**Key Concepts:**\n",
        "- **optimizer='adam'**: Adaptive learning rate optimizer (good default)\n",
        "- **loss='mse'**: Mean Squared Error - standard for regression\n",
        "- **metrics=['mae']**: Mean Absolute Error - easier to interpret than MSE\n",
        "\n",
        "**Documentation:**\n",
        "- Model compilation: https://keras.io/api/models/model_training_apis/#compile-method\n",
        "- Adam optimizer: https://keras.io/api/optimizers/adam/\n"
      ]
    },
    {
      "cell_type": "code",
      "execution_count": null,
      "metadata": {},
      "outputs": [],
      "source": [
        "# TODO: Compile your model here\n",
        "\n"
      ]
    },
    {
      "cell_type": "markdown",
      "metadata": {},
      "source": [
        "### Step 4: Train the model\n",
        "\n",
        "**Goal:** Fit the model to your data\n",
        "\n",
        "**Training Configuration:**\n",
        "```python\n",
        "history = model.fit(\n",
        "    x_train, y_train,\n",
        "    epochs=20,\n",
        "    batch_size=16,\n",
        "    validation_split=0.2,\n",
        "    verbose=1\n",
        ")\n",
        "```\n",
        "\n",
        "**Your Task:**\n",
        "- Train your model using the configuration above\n",
        "- Print the final training loss: `history.history['loss'][-1]`\n",
        "- Observe how loss decreases over epochs\n",
        "\n",
        "**Key Parameters:**\n",
        "- **epochs=20**: Train for 20 complete passes through data\n",
        "- **batch_size=16**: Update weights after every 16 samples\n",
        "- **validation_split=0.2**: Hold out 20% for validation\n",
        "- **verbose=1**: Show progress bar during training\n",
        "\n",
        "**Documentation:**\n",
        "- Model.fit(): https://keras.io/api/models/model_training_apis/#fit-method\n"
      ]
    },
    {
      "cell_type": "code",
      "execution_count": null,
      "metadata": {},
      "outputs": [],
      "source": [
        "# TODO: Train your model and capture the history\n",
        "\n"
      ]
    },
    {
      "cell_type": "markdown",
      "metadata": {},
      "source": [
        "### Step 5: Plot the loss curve\n",
        "\n",
        "**Goal:** Visualize training progress\n",
        "\n",
        "**Plotting Code:**\n",
        "```python\n",
        "plt.figure(figsize=(10, 6))\n",
        "plt.plot(history.history['loss'], label='Training Loss')\n",
        "plt.plot(history.history['val_loss'], label='Validation Loss')\n",
        "plt.xlabel('Epoch')\n",
        "plt.ylabel('Loss (MSE)')\n",
        "plt.title('Model Training History')\n",
        "plt.legend()\n",
        "plt.grid(True)\n",
        "plt.show()\n",
        "```\n",
        "\n",
        "**Your Task:**\n",
        "- Create the plot above\n",
        "- **Observe:** Is the validation loss decreasing? Increasing?\n",
        "- **Think:** If val_loss increases while train_loss decreases, what does that mean?\n",
        "\n",
        "**Key Insight:**\n",
        "- If validation loss starts increasing while training loss keeps decreasing, you're **overfitting**!\n",
        "\n",
        "**Documentation:**\n",
        "- Matplotlib plotting: https://matplotlib.org/stable/tutorials/pyplot.html\n"
      ]
    },
    {
      "cell_type": "code",
      "execution_count": null,
      "metadata": {},
      "outputs": [],
      "source": [
        "# TODO: Plot the training history\n",
        "\n"
      ]
    },
    {
      "cell_type": "markdown",
      "metadata": {},
      "source": [
        "### Step 6: Test the model\n",
        "\n",
        "**Goal:** Verify the model learned the correct relationship\n",
        "\n",
        "**Testing Code:**\n",
        "```python\n",
        "test_x = np.array([[2.0], [5.0], [8.0]])\n",
        "predictions = model.predict(test_x, verbose=0)\n",
        "\n",
        "print(\"\\nPredictions:\")\n",
        "for x_val, pred_val in zip(test_x.flatten(), predictions.flatten()):\n",
        "    expected = 3 * x_val + 7  # True relationship\n",
        "    print(f\"  x={x_val:.1f}: predicted={pred_val:.2f}, expected={expected:.2f}\")\n",
        "```\n",
        "\n",
        "**Your Task:**\n",
        "- Test your model on x = [2.0, 5.0, 8.0]\n",
        "- Compare predictions to expected values (y = 3x + 7)\n",
        "- **Evaluate:** Are the predictions close? Why or why not?\n",
        "\n",
        "**Expected Results:**\n",
        "- For x=2: should predict ~13 (3×2+7)\n",
        "- For x=5: should predict ~22 (3×5+7)\n",
        "- For x=8: should predict ~31 (3×8+7)\n",
        "\n",
        "**Documentation:**\n",
        "- Model.predict(): https://keras.io/api/models/model_training_apis/#predict-method\n"
      ]
    },
    {
      "cell_type": "code",
      "execution_count": null,
      "metadata": {},
      "outputs": [],
      "source": [
        "# TODO: Test your model and compare predictions to expected values\n",
        "\n"
      ]
    }
  ],
  "metadata": {
    "language_info": {
      "name": "python"
    }
  },
  "nbformat": 4,
  "nbformat_minor": 2
}
